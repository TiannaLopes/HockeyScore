{
 "cells": [
  {
   "cell_type": "code",
   "execution_count": 68,
   "metadata": {},
   "outputs": [],
   "source": [
    "import pandas as pd\n",
    "import numpy as np\n",
    "from sklearn.preprocessing import StandardScaler\n",
    "from sklearn.model_selection import train_test_split\n",
    "from sklearn.neighbors import KNeighborsClassifier\n",
    "from sklearn.metrics import classification_report, confusion_matrix"
   ]
  },
  {
   "cell_type": "code",
   "execution_count": 69,
   "metadata": {},
   "outputs": [
    {
     "data": {
      "text/html": [
       "<div>\n",
       "<style scoped>\n",
       "    .dataframe tbody tr th:only-of-type {\n",
       "        vertical-align: middle;\n",
       "    }\n",
       "\n",
       "    .dataframe tbody tr th {\n",
       "        vertical-align: top;\n",
       "    }\n",
       "\n",
       "    .dataframe thead th {\n",
       "        text-align: right;\n",
       "    }\n",
       "</style>\n",
       "<table border=\"1\" class=\"dataframe\">\n",
       "  <thead>\n",
       "    <tr style=\"text-align: right;\">\n",
       "      <th></th>\n",
       "      <th>BruinsScore2</th>\n",
       "      <th>OpponentScore2</th>\n",
       "      <th>Result</th>\n",
       "    </tr>\n",
       "  </thead>\n",
       "  <tbody>\n",
       "    <tr>\n",
       "      <th>0</th>\n",
       "      <td>2</td>\n",
       "      <td>0</td>\n",
       "      <td>1</td>\n",
       "    </tr>\n",
       "    <tr>\n",
       "      <th>1</th>\n",
       "      <td>1</td>\n",
       "      <td>0</td>\n",
       "      <td>1</td>\n",
       "    </tr>\n",
       "    <tr>\n",
       "      <th>2</th>\n",
       "      <td>2</td>\n",
       "      <td>2</td>\n",
       "      <td>1</td>\n",
       "    </tr>\n",
       "    <tr>\n",
       "      <th>3</th>\n",
       "      <td>2</td>\n",
       "      <td>1</td>\n",
       "      <td>0</td>\n",
       "    </tr>\n",
       "    <tr>\n",
       "      <th>4</th>\n",
       "      <td>2</td>\n",
       "      <td>0</td>\n",
       "      <td>1</td>\n",
       "    </tr>\n",
       "  </tbody>\n",
       "</table>\n",
       "</div>"
      ],
      "text/plain": [
       "   BruinsScore2  OpponentScore2  Result\n",
       "0             2               0       1\n",
       "1             1               0       1\n",
       "2             2               2       1\n",
       "3             2               1       0\n",
       "4             2               0       1"
      ]
     },
     "execution_count": 69,
     "metadata": {},
     "output_type": "execute_result"
    }
   ],
   "source": [
    "df = pd.read_csv('Boston.csv')\n",
    "df = df.drop(columns='Date')\n",
    "df = df.drop(columns='Type')\n",
    "df = df.drop(columns='Opponent')\n",
    "df = df.drop(columns='BruinsScore3')\n",
    "df = df.drop(columns='OpponentScore3')\n",
    "df = df.drop(columns='BruinsScoreF')\n",
    "df = df.drop(columns='OpponentScoreF')\n",
    "df.head()"
   ]
  },
  {
   "cell_type": "code",
   "execution_count": 70,
   "metadata": {},
   "outputs": [
    {
     "data": {
      "text/plain": [
       "StandardScaler(copy=True, with_mean=True, with_std=True)"
      ]
     },
     "execution_count": 70,
     "metadata": {},
     "output_type": "execute_result"
    }
   ],
   "source": [
    "scaler = StandardScaler()\n",
    "scaler.fit(df.drop('Result', axis=1))"
   ]
  },
  {
   "cell_type": "code",
   "execution_count": 71,
   "metadata": {},
   "outputs": [],
   "source": [
    "scaled_features = scaler.transform(df.drop('Result',axis=1))"
   ]
  },
  {
   "cell_type": "code",
   "execution_count": 85,
   "metadata": {},
   "outputs": [
    {
     "name": "stdout",
     "output_type": "stream",
     "text": [
      "    BruinsScore2  OpponentScore2\n",
      "0       1.049763       -0.833328\n",
      "1      -0.030875       -0.833328\n",
      "2       1.049763        1.648926\n",
      "3       1.049763        0.407799\n",
      "4       1.049763       -0.833328\n",
      "5      -0.030875       -0.833328\n",
      "6      -0.030875        0.407799\n",
      "7      -0.030875        1.648926\n",
      "8      -0.030875        1.648926\n",
      "9      -0.030875       -0.833328\n",
      "10     -1.111514        0.407799\n",
      "11      1.049763       -0.833328\n",
      "12     -0.030875        0.407799\n",
      "13      1.049763       -0.833328\n",
      "14     -0.030875        2.890053\n",
      "15     -0.030875        1.648926\n",
      "16     -1.111514        1.648926\n",
      "17      3.211039       -0.833328\n",
      "18     -0.030875       -0.833328\n",
      "19     -0.030875        0.407799\n",
      "20      1.049763       -0.833328\n",
      "21     -0.030875        0.407799\n",
      "22     -1.111514        0.407799\n",
      "23      2.130401        0.407799\n",
      "24     -1.111514       -0.833328\n",
      "25     -1.111514        0.407799\n",
      "26     -1.111514        0.407799\n",
      "27     -1.111514       -0.833328\n",
      "28     -1.111514        1.648926\n",
      "29     -0.030875        0.407799\n",
      "30     -0.030875        1.648926\n",
      "31     -0.030875       -0.833328\n",
      "32     -0.030875       -0.833328\n",
      "33     -0.030875       -0.833328\n",
      "34     -0.030875        0.407799\n",
      "35     -0.030875       -0.833328\n",
      "36     -1.111514       -0.833328\n",
      "37      3.211039       -0.833328\n",
      "38     -0.030875       -0.833328\n",
      "39     -0.030875       -0.833328\n",
      "40     -0.030875       -0.833328\n",
      "41     -1.111514       -0.833328\n",
      "42     -0.030875       -0.833328\n",
      "43     -0.030875       -0.833328\n",
      "44     -0.030875        0.407799\n",
      "45     -1.111514        0.407799\n",
      "46      1.049763        0.407799\n",
      "47     -1.111514        0.407799\n",
      "48      1.049763        0.407799\n",
      "49      2.130401        0.407799\n",
      "50     -0.030875        0.407799\n",
      "51     -0.030875        0.407799\n",
      "52     -0.030875       -0.833328\n",
      "53     -0.030875       -0.833328\n",
      "54     -1.111514       -0.833328\n",
      "55     -1.111514       -0.833328\n",
      "56     -1.111514       -0.833328\n",
      "57     -0.030875       -0.833328\n",
      "58     -1.111514        0.407799\n",
      "59     -0.030875       -0.833328\n",
      "60     -0.030875       -0.833328\n",
      "61      2.130401        2.890053\n",
      "62     -0.030875        1.648926\n",
      "63     -1.111514        0.407799\n",
      "64     -0.030875        0.407799\n",
      "65      1.049763       -0.833328\n",
      "66     -0.030875       -0.833328\n",
      "67     -1.111514       -0.833328\n",
      "68     -1.111514        1.648926\n",
      "69     -1.111514       -0.833328\n"
     ]
    }
   ],
   "source": [
    "df_feat = pd.DataFrame(scaled_features, columns=df.columns[:-1])\n",
    "with pd.option_context('display.max_rows', None, 'display.max_columns', None):\n",
    "    print(df_feat)"
   ]
  },
  {
   "cell_type": "code",
   "execution_count": 90,
   "metadata": {},
   "outputs": [],
   "source": [
    "X = df_feat\n",
    "y = df['Result']\n",
    "X_train, X_test, y_train, y_test = train_test_split(X, y, test_size=0.3, random_state=1)\n"
   ]
  },
  {
   "cell_type": "code",
   "execution_count": 91,
   "metadata": {},
   "outputs": [
    {
     "data": {
      "text/plain": [
       "KNeighborsClassifier(algorithm='auto', leaf_size=30, metric='minkowski',\n",
       "                     metric_params=None, n_jobs=None, n_neighbors=31, p=2,\n",
       "                     weights='uniform')"
      ]
     },
     "execution_count": 91,
     "metadata": {},
     "output_type": "execute_result"
    }
   ],
   "source": [
    "knn = KNeighborsClassifier(n_neighbors=31)\n",
    "knn.fit(X_train, y_train)"
   ]
  },
  {
   "cell_type": "code",
   "execution_count": 92,
   "metadata": {},
   "outputs": [
    {
     "name": "stdout",
     "output_type": "stream",
     "text": [
      "Prediction\n"
     ]
    },
    {
     "data": {
      "text/plain": [
       "array([1, 1, 1, 1, 1, 1, 1, 1, 1, 1, 1, 1, 1, 1, 1, 1, 0, 1, 1, 1, 1])"
      ]
     },
     "execution_count": 92,
     "metadata": {},
     "output_type": "execute_result"
    }
   ],
   "source": [
    "#Predict\n",
    "pred = knn.predict(X_test)\n",
    "print(\"Prediction\")\n",
    "pred"
   ]
  },
  {
   "cell_type": "code",
   "execution_count": 93,
   "metadata": {},
   "outputs": [
    {
     "name": "stdout",
     "output_type": "stream",
     "text": [
      "              precision    recall  f1-score   support\n",
      "\n",
      "           0       1.00      0.17      0.29         6\n",
      "           1       0.75      1.00      0.86        15\n",
      "\n",
      "    accuracy                           0.76        21\n",
      "   macro avg       0.88      0.58      0.57        21\n",
      "weighted avg       0.82      0.76      0.69        21\n",
      "\n"
     ]
    }
   ],
   "source": [
    "print(classification_report(y_test, pred))"
   ]
  },
  {
   "cell_type": "code",
   "execution_count": 94,
   "metadata": {},
   "outputs": [
    {
     "name": "stdout",
     "output_type": "stream",
     "text": [
      "TP - True Negative 1\n",
      "FP - False Positive 5\n",
      "FN - False Negative 0\n",
      "TP - True Positive 15\n",
      "Accuracy Rate: 0.7619047619047619\n",
      "Misclassification Rate: 0.23809523809523808\n"
     ]
    }
   ],
   "source": [
    "cmat = confusion_matrix(y_test, pred)\n",
    "print('TP - True Negative {}'.format(cmat[0,0]))\n",
    "print('FP - False Positive {}'.format(cmat[0,1]))\n",
    "print('FN - False Negative {}'.format(cmat[1,0]))\n",
    "print('TP - True Positive {}'.format(cmat[1,1]))\n",
    "print('Accuracy Rate: {}'.format(np.divide(np.sum([cmat[0,0],cmat[1,1]]),np.sum(cmat))))\n",
    "print('Misclassification Rate: {}'.format(np.divide(np.sum([cmat[0,1],cmat[1,0]]),np.sum(cmat))))"
   ]
  },
  {
   "cell_type": "code",
   "execution_count": 95,
   "metadata": {},
   "outputs": [],
   "source": [
    "error_rate = []\n",
    "for i in range(1,50):\n",
    "    \n",
    "    knn = KNeighborsClassifier(n_neighbors=i)\n",
    "    knn.fit(X_train, y_train)\n",
    "    pred_i = knn.predict(X_test)\n",
    "    error_rate.append(np.mean(pred_i != y_test))"
   ]
  },
  {
   "cell_type": "code",
   "execution_count": 96,
   "metadata": {},
   "outputs": [
    {
     "data": {
      "text/plain": [
       "Text(0, 0.5, 'Error Rate')"
      ]
     },
     "execution_count": 96,
     "metadata": {},
     "output_type": "execute_result"
    },
    {
     "data": {
      "image/png": "[encoded data removed]",
      "text/plain": [
       "<Figure size 1080x288 with 1 Axes>"
      ]
     },
     "metadata": {
      "needs_background": "light"
     },
     "output_type": "display_data"
    }
   ],
   "source": [
    "plt.figure(figsize=(15,4))\n",
    "plt.plot(range(1,50), error_rate, color='blue', linestyle='dashed', marker='o', markerfacecolor='red', markersize=10)\n",
    "plt.title('Error Rate vs. K-Values')\n",
    "plt.xlabel('K-Values')\n",
    "plt.ylabel('Error Rate')"
   ]
  },
  {
   "cell_type": "code",
   "execution_count": null,
   "metadata": {},
   "outputs": [],
   "source": []
  }
 ],
 "metadata": {
  "kernelspec": {
   "display_name": "Python 3",
   "language": "python",
   "name": "python3"
  },
  "language_info": {
   "codemirror_mode": {
    "name": "ipython",
    "version": 3
   },
   "file_extension": ".py",
   "mimetype": "text/x-python",
   "name": "python",
   "nbconvert_exporter": "python",
   "pygments_lexer": "ipython3",
   "version": "3.7.6"
  }
 },
 "nbformat": 4,
 "nbformat_minor": 4
}
